{
 "cells": [
  {
   "cell_type": "code",
   "execution_count": 1,
   "id": "1f0f0dd5",
   "metadata": {},
   "outputs": [
    {
     "name": "stderr",
     "output_type": "stream",
     "text": [
      "Processing Edges: 100%|██████████| 195/195 [00:10<00:00, 19.09it/s]"
     ]
    },
    {
     "name": "stdout",
     "output_type": "stream",
     "text": [
      "相似性计算完成，结果已保存到 output 目录。\n"
     ]
    },
    {
     "name": "stderr",
     "output_type": "stream",
     "text": [
      "\n"
     ]
    }
   ],
   "source": [
    "import os\n",
    "import pandas as pd\n",
    "from rdkit import Chem\n",
    "from rdkit.Chem import rdMolDescriptors, DataStructs\n",
    "from tqdm import tqdm\n",
    "\n",
    "# 文件路径\n",
    "seednode_file = \"test_files/14seednode.csv\"\n",
    "edges_file = \"tmp/Seednode_and_Targetnode.csv\"\n",
    "targetnode_dir = \"../4_search_candidates/candidates\"  # 目标物质的 CSV 文件存放目录\n",
    "output_dir = \"tmp/Seednode_and_Targetnode_Morgan_Similarity_score\"  # 结果存放目录\n",
    "os.makedirs(output_dir, exist_ok=True)\n",
    "\n",
    "# 读取 Seednode 的 SMILES 信息\n",
    "df_seednode = pd.read_csv(seednode_file)\n",
    "seednode_smiles_dict = dict(zip(df_seednode[\"ID\"], df_seednode[\"SMILES\"]))\n",
    "\n",
    "# 读取 Targetnode 和 Seednode 关系对\n",
    "df_edges = pd.read_csv(edges_file)\n",
    "\n",
    "def tanimoto_similarity(smiles1, smiles2):\n",
    "    \"\"\"计算两个 SMILES 之间的 Tanimoto 相似性\"\"\"\n",
    "    mol1 = Chem.MolFromSmiles(smiles1)\n",
    "    mol2 = Chem.MolFromSmiles(smiles2)\n",
    "    if mol1 is None or mol2 is None:\n",
    "        return None  # 处理 SMILES 解析失败的情况\n",
    "    fp1 = rdMolDescriptors.GetMorganFingerprintAsBitVect(mol1, radius=2, nBits=2048)\n",
    "    fp2 = rdMolDescriptors.GetMorganFingerprintAsBitVect(mol2, radius=2, nBits=2048)\n",
    "    return DataStructs.TanimotoSimilarity(fp1, fp2)\n",
    "\n",
    "# 计算并保存相似性分数\n",
    "for _, row in tqdm(df_edges.iterrows(), total=len(df_edges), desc=\"Processing Edges\"):\n",
    "    target_id, seed_id = row[\"Targetnode\"], row[\"Seednode\"]\n",
    "    \n",
    "    # 获取 Seednode 的 SMILES\n",
    "    seed_smiles = seednode_smiles_dict.get(seed_id)\n",
    "    if not seed_smiles:\n",
    "        continue  # 如果 Seednode 没有 SMILES，跳过\n",
    "    \n",
    "    # 读取 Targetnode 文件\n",
    "    target_file = os.path.join(targetnode_dir, f\"{target_id}.csv\")\n",
    "    if not os.path.exists(target_file):\n",
    "        continue  # 如果没有该 Targetnode 文件，跳过\n",
    "    \n",
    "    df_target = pd.read_csv(target_file)\n",
    "    if \"SMILES\" not in df_target.columns:\n",
    "        continue  # 确保文件中包含 SMILES 列\n",
    "    \n",
    "    # 计算相似性并添加到 DataFrame\n",
    "    df_target[\"score\"] = df_target[\"SMILES\"].apply(lambda x: tanimoto_similarity(x, seed_smiles))\n",
    "\n",
    "    # 按 score 降序排序\n",
    "    df_target = df_target.sort_values(by=\"score\", ascending=False)\n",
    "    \n",
    "    # 保存到新文件\n",
    "    output_filename = os.path.join(output_dir, f\"{target_id}_{seed_id}.csv\")\n",
    "    df_target.to_csv(output_filename, index=False)\n",
    "\n",
    "print(\"相似性计算完成，结果已保存到 output 目录。\")\n"
   ]
  },
  {
   "cell_type": "code",
   "execution_count": 7,
   "id": "76c7eb60",
   "metadata": {},
   "outputs": [
    {
     "name": "stdout",
     "output_type": "stream",
     "text": [
      "int64\n",
      "int64\n"
     ]
    },
    {
     "name": "stderr",
     "output_type": "stream",
     "text": [
      "Processing Edges:   0%|          | 0/195 [00:00<?, ?it/s]"
     ]
    },
    {
     "name": "stdout",
     "output_type": "stream",
     "text": [
      "4020 18\n",
      "<class 'int'> <class 'int'>\n"
     ]
    },
    {
     "name": "stderr",
     "output_type": "stream",
     "text": [
      "\n"
     ]
    }
   ],
   "source": [
    "import pandas as pd\n",
    "from tqdm import tqdm\n",
    "edges_file = \"tmp/Seednode_and_Targetnode.csv\"\n",
    "df_edges=pd.read_csv(edges_file)\n",
    "print(df_edges['Targetnode'].dtype)\n",
    "print(df_edges['Seednode'].dtype)\n",
    "for _, row in tqdm(df_edges.iterrows(), total=len(df_edges), desc=\"Processing Edges\"):\n",
    "    target_id, seed_id = int(row[\"Targetnode\"]), int(row[\"Seednode\"])\n",
    "    print(target_id, seed_id)\n",
    "    print(type(target_id), type(seed_id))\n",
    "    break"
   ]
  }
 ],
 "metadata": {
  "kernelspec": {
   "display_name": "cgran",
   "language": "python",
   "name": "python3"
  },
  "language_info": {
   "codemirror_mode": {
    "name": "ipython",
    "version": 3
   },
   "file_extension": ".py",
   "mimetype": "text/x-python",
   "name": "python",
   "nbconvert_exporter": "python",
   "pygments_lexer": "ipython3",
   "version": "3.8.20"
  }
 },
 "nbformat": 4,
 "nbformat_minor": 5
}
